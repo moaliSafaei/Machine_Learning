{
 "cells": [
  {
   "cell_type": "code",
   "execution_count": 310,
   "id": "2f8184e7",
   "metadata": {},
   "outputs": [],
   "source": [
    "import pandas as pd\n",
    "from matplotlib import pyplot as plt\n",
    "#from ydata_profiling import ProfileReport"
   ]
  },
  {
   "cell_type": "code",
   "execution_count": 311,
   "id": "9c29f2d3",
   "metadata": {},
   "outputs": [
    {
     "data": {
      "application/vnd.jupyter.widget-view+json": {
       "model_id": "a59322bed4544891a8241b7563319939",
       "version_major": 2,
       "version_minor": 0
      },
      "text/plain": [
       "Summarize dataset:   0%|          | 0/5 [00:00<?, ?it/s]"
      ]
     },
     "metadata": {},
     "output_type": "display_data"
    },
    {
     "name": "stderr",
     "output_type": "stream",
     "text": [
      "C:\\Users\\moham\\AppData\\Local\\Programs\\Python\\Python310\\lib\\site-packages\\ydata_profiling\\model\\pandas\\discretize_pandas.py:52: FutureWarning: In a future version, `df.iloc[:, i] = newvals` will attempt to set the values inplace instead of always setting a new array. To retain the old behavior, use either `df[df.columns[i]] = newvals` or, if columns are non-unique, `df.isetitem(i, newvals)`\n",
      "  discretized_df.loc[:, column] = self._discretize_column(\n"
     ]
    },
    {
     "data": {
      "application/vnd.jupyter.widget-view+json": {
       "model_id": "db76d8bd669842a29521a2b1f1426d9d",
       "version_major": 2,
       "version_minor": 0
      },
      "text/plain": [
       "Generate report structure:   0%|          | 0/1 [00:00<?, ?it/s]"
      ]
     },
     "metadata": {},
     "output_type": "display_data"
    },
    {
     "data": {
      "application/vnd.jupyter.widget-view+json": {
       "model_id": "e545f387611b48688ef37699fa067de6",
       "version_major": 2,
       "version_minor": 0
      },
      "text/plain": [
       "Render HTML:   0%|          | 0/1 [00:00<?, ?it/s]"
      ]
     },
     "metadata": {},
     "output_type": "display_data"
    },
    {
     "data": {
      "application/vnd.jupyter.widget-view+json": {
       "model_id": "83b1244ccdff4ae3a98053ce3576ee0a",
       "version_major": 2,
       "version_minor": 0
      },
      "text/plain": [
       "Export report to file:   0%|          | 0/1 [00:00<?, ?it/s]"
      ]
     },
     "metadata": {},
     "output_type": "display_data"
    },
    {
     "name": "stdout",
     "output_type": "stream",
     "text": [
      "       y  x1   x2\n",
      "123  7.6  64  250\n",
      "124  1.5  64  275\n",
      "125  1.0  64  275\n",
      "126  1.2  64  275\n",
      "127  1.2  64  275\n",
      "                y          x1          x2\n",
      "count  128.000000  128.000000  128.000000\n",
      "mean    11.238047   21.875000  232.500000\n",
      "std      4.166401   22.270704   35.227048\n",
      "min      1.000000    1.000000  180.000000\n",
      "25%     10.000000    3.500000  213.750000\n",
      "50%     12.000000   12.000000  237.500000\n",
      "75%     13.525000   36.000000  256.250000\n",
      "max     18.500000   64.000000  275.000000\n"
     ]
    },
    {
     "data": {
      "text/html": [
       "<div>\n",
       "<style scoped>\n",
       "    .dataframe tbody tr th:only-of-type {\n",
       "        vertical-align: middle;\n",
       "    }\n",
       "\n",
       "    .dataframe tbody tr th {\n",
       "        vertical-align: top;\n",
       "    }\n",
       "\n",
       "    .dataframe thead th {\n",
       "        text-align: right;\n",
       "    }\n",
       "</style>\n",
       "<table border=\"1\" class=\"dataframe\">\n",
       "  <thead>\n",
       "    <tr style=\"text-align: right;\">\n",
       "      <th></th>\n",
       "      <th>y</th>\n",
       "      <th>x1</th>\n",
       "      <th>x2</th>\n",
       "    </tr>\n",
       "  </thead>\n",
       "  <tbody>\n",
       "    <tr>\n",
       "      <th>0</th>\n",
       "      <td>15.0</td>\n",
       "      <td>1</td>\n",
       "      <td>180</td>\n",
       "    </tr>\n",
       "    <tr>\n",
       "      <th>1</th>\n",
       "      <td>17.0</td>\n",
       "      <td>1</td>\n",
       "      <td>180</td>\n",
       "    </tr>\n",
       "    <tr>\n",
       "      <th>2</th>\n",
       "      <td>15.5</td>\n",
       "      <td>1</td>\n",
       "      <td>180</td>\n",
       "    </tr>\n",
       "    <tr>\n",
       "      <th>3</th>\n",
       "      <td>16.5</td>\n",
       "      <td>1</td>\n",
       "      <td>180</td>\n",
       "    </tr>\n",
       "    <tr>\n",
       "      <th>4</th>\n",
       "      <td>15.5</td>\n",
       "      <td>1</td>\n",
       "      <td>225</td>\n",
       "    </tr>\n",
       "  </tbody>\n",
       "</table>\n",
       "</div>"
      ],
      "text/plain": [
       "      y  x1   x2\n",
       "0  15.0   1  180\n",
       "1  17.0   1  180\n",
       "2  15.5   1  180\n",
       "3  16.5   1  180\n",
       "4  15.5   1  225"
      ]
     },
     "execution_count": 311,
     "metadata": {},
     "output_type": "execute_result"
    }
   ],
   "source": [
    "df = pd.read_excel('Performance-Degradation Data Nelson.xlsx') #Import dataset\n",
    "ypro = ProfileReport(df)\n",
    "ypro.to_file('Performance-Degradation Data Nelson.html') #Statistical chracteristics of data\n",
    "print(df.tail())\n",
    "print(df.describe())\n",
    "df.head()"
   ]
  },
  {
   "cell_type": "code",
   "execution_count": 312,
   "id": "664f5016",
   "metadata": {
    "scrolled": false
   },
   "outputs": [
    {
     "name": "stdout",
     "output_type": "stream",
     "text": [
      "<class 'numpy.ndarray'>\n"
     ]
    }
   ],
   "source": [
    "import numpy as np\n",
    "\n",
    "X1 = df.iloc[:,1].to_numpy()\n",
    "X1.shape\n",
    "X2 = df.iloc[:,-1].to_numpy()\n",
    "print(type(X1))\n",
    "#X1.shape\n",
    "y = df.iloc[:, 0].to_numpy()\n",
    "#X1.shape\n",
    "#X2.shape0\n",
    "X = np.zeros((128,2))\n",
    "for i in range(len(X1)):\n",
    "    X[i,0] = X1[i]\n",
    "    X[i,1] = X2[i]\n",
    "X\n",
    "\n",
    "X0 = np.ones(len(X1))\n",
    "X = np.c_[X0,X]            #add x0 = 1 to the function (bias)\n",
    "X_numer  = df[['x1','x2']]\n",
    "y_numer = df[['y']]\n",
    "#type(X_numer)\n",
    "#type(y_numer)"
   ]
  },
  {
   "cell_type": "code",
   "execution_count": 313,
   "id": "c62ab645",
   "metadata": {},
   "outputs": [
    {
     "name": "stderr",
     "output_type": "stream",
     "text": [
      "C:\\Users\\moham\\AppData\\Local\\Temp\\ipykernel_14820\\4282184082.py:8: UserWarning: No data for colormapping provided via 'c'. Parameters 'cmap' will be ignored\n",
      "  ax.scatter3D(X[:,0],X[:,1],X[:,2],cmap = 'virdis')\n"
     ]
    },
    {
     "data": {
      "image/png": "[encoded data removed]",
      "text/plain": [
       "<Figure size 800x400 with 2 Axes>"
      ]
     },
     "metadata": {},
     "output_type": "display_data"
    }
   ],
   "source": [
    "fig  = plt.figure(figsize=(8,4))\n",
    "ax = fig.add_subplot(1,2,1)\n",
    "ax.scatter(X2, y, color = '#809ecf', s = 250, marker = '.', edgecolor = 'black')\n",
    "ax.scatter(X1, y, color = '#27c47e', s = 250, marker = '.', edgecolor = 'black')\n",
    "plt.xlabel(\"Efficient Longevity\", fontsize = 10)\n",
    "plt.ylabel(\"Loading temperature\", fontsize = 10)\n",
    "ax = fig.add_subplot(1,2,2,projection = '3d')\n",
    "ax.scatter3D(X[:,0],X[:,1],X[:,2],cmap = 'virdis')\n",
    "plt.xlabel(\"Efficient Longevity\", fontsize = 10)\n",
    "plt.ylabel(\"Loading temperature\", fontsize = 10)\n",
    "plt.show()"
   ]
  },
  {
   "cell_type": "code",
   "execution_count": 314,
   "id": "d6c065ae",
   "metadata": {},
   "outputs": [],
   "source": [
    "from sklearn.model_selection import train_test_split \n",
    "\n",
    "X_train, X_test, y_train, y_test \\\n",
    " = train_test_split(X, y, test_size=0.2, random_state=0) "
   ]
  },
  {
   "cell_type": "markdown",
   "id": "1a9a2dd4",
   "metadata": {},
   "source": [
    "## Regression formula\n",
    "## y = t0 + t1*x1 + t2*x2 + ... tn*xn"
   ]
  },
  {
   "cell_type": "markdown",
   "id": "b27d2b3a",
   "metadata": {},
   "source": [
    "## Analytical solution"
   ]
  },
  {
   "cell_type": "code",
   "execution_count": 315,
   "id": "34906b58",
   "metadata": {},
   "outputs": [
    {
     "name": "stdout",
     "output_type": "stream",
     "text": [
      "Theta coefficients' array by analytical estimation is: \n",
      " [32.35742375 -0.08096706 -0.08307881]\n"
     ]
    }
   ],
   "source": [
    "theta_coef = np.linalg.inv(X_train.T.dot(X_train)).dot(X_train.T).dot(y_train)\n",
    "print(f\"Theta coefficients' array by analytical estimation is: \\n {theta_coef}\")\n",
    "y_pred_a = X_test.dot(theta_coef)"
   ]
  },
  {
   "cell_type": "markdown",
   "id": "9d62ea27",
   "metadata": {},
   "source": [
    "## Numerical solution"
   ]
  },
  {
   "cell_type": "code",
   "execution_count": 316,
   "id": "bf264e95",
   "metadata": {},
   "outputs": [],
   "source": [
    "from sklearn import linear_model \n",
    "from sklearn.model_selection import KFold\n",
    "from sklearn.metrics import r2_score , mean_squared_error, mean_absolute_error"
   ]
  },
  {
   "cell_type": "code",
   "execution_count": 317,
   "id": "2618cc22",
   "metadata": {},
   "outputs": [],
   "source": [
    "X_train, X_test, y_train, y_test \\\n",
    " = train_test_split(X_numer, y_numer, test_size=0.2, random_state=42) "
   ]
  },
  {
   "cell_type": "code",
   "execution_count": 318,
   "id": "d8de143a",
   "metadata": {},
   "outputs": [
    {
     "name": "stdout",
     "output_type": "stream",
     "text": [
      "Regressor Score is: 0.709740790917744\n",
      "Regressor coefficients' array is: [[-0.08394983 -0.08480328]]\n",
      "Regressor intercept is:[32.80169832]\n"
     ]
    }
   ],
   "source": [
    "regr = linear_model.LinearRegression() # True boolean is not acceptable \n",
    "regr.fit(X_train, y_train)\n",
    "y_pred = regr.predict(X_test)\n",
    "print(f\"Regressor Score is: {regr.score(X_train, y_train)}\")\n",
    "regr_coef = regr.coef_\n",
    "#regr_coef[0] = regr.intercept_\n",
    "print(f\"Regressor coefficients' array is: {regr_coef}\")\n",
    "print(f\"Regressor intercept is:{regr.intercept_}\")"
   ]
  },
  {
   "cell_type": "markdown",
   "id": "4ad46e50",
   "metadata": {},
   "source": [
    "## Regression Evaluation Metrics\n",
    "\n",
    "\n",
    "Here are three common evaluation metrics for regression problems:\n",
    "\n",
    "**Mean Absolute Error:** (MAE) is the mean of the absolute value of the errors:\n",
    "\n",
    "$$\\frac 1n\\sum_{i=1}^n|y_i-\\hat{y}_i|$$\n",
    "\n",
    "\n",
    "- **MAE** is the easiest to understand, because it's the average error.\n",
    "- **R2 score** regression score function. Best possible score is 1.0\n"
   ]
  },
  {
   "cell_type": "code",
   "execution_count": 319,
   "id": "ff1629fe",
   "metadata": {},
   "outputs": [
    {
     "name": "stdout",
     "output_type": "stream",
     "text": [
      "R2 score of regression (linear kernel): 0.6625617958417134\n",
      "mean absolute error (MAE): 1.7198387615611008\n"
     ]
    }
   ],
   "source": [
    "print(f\"R2 score of regression (linear kernel): {r2_score(y_test, y_pred)}\")     \n",
    "#print(f\"mean square error (MSE): {mean_squared_error(y_test,y_pred)}\")\n",
    "print(f\"mean absolute error (MAE): {mean_absolute_error(y_test,y_pred)}\")"
   ]
  },
  {
   "cell_type": "code",
   "execution_count": 320,
   "id": "086774e3",
   "metadata": {},
   "outputs": [
    {
     "data": {
      "image/png": "[encoded data removed]",
      "text/plain": [
       "<Figure size 640x480 with 1 Axes>"
      ]
     },
     "metadata": {},
     "output_type": "display_data"
    },
    {
     "name": "stdout",
     "output_type": "stream",
     "text": [
      "linear regression score :\n",
      " {'fit_time': array([0.        , 0.        , 0.01562524, 0.        ]), 'score_time': array([0., 0., 0., 0.]), 'test_score': array([0.73963469, 0.7554604 , 0.73534882, 0.45201124])}\n"
     ]
    }
   ],
   "source": [
    "plt.scatter(y_test,y_pred,c= 'r',edgecolor = 'black')\n",
    "plt.title('Relation between labels and predictions')\n",
    "plt.grid()\n",
    "plt.ylim(0,20)\n",
    "plt.xlim(0,20)\n",
    "plt.xlabel('y_test')\n",
    "plt.ylabel('y_pred')\n",
    "plt.show()\n",
    "cv = KFold(n_splits=4,random_state = None , shuffle = True)  #Larger values specify stronger regularization. \n",
    "\n",
    "print(\"linear regression score :\\n\",cross_validate(regr2,X_train,y_train,cv = cv))\n",
    "# if linear relation demonstrates, regression will be good "
   ]
  },
  {
   "cell_type": "code",
   "execution_count": 321,
   "id": "9f973990",
   "metadata": {},
   "outputs": [],
   "source": [
    "from sklearn.kernel_ridge import KernelRidge\n",
    "from sklearn.metrics.pairwise import sigmoid_kernel, rbf_kernel,polynomial_kernel\n",
    "from sklearn.model_selection import cross_validate,cross_val_score"
   ]
  },
  {
   "cell_type": "markdown",
   "id": "96becc46",
   "metadata": {},
   "source": [
    "#Kernel ridge regression (KRR) combines Ridge regression and classification \n",
    "#(linear least squares with l2-norm regularization) with the kernel trick. \n",
    "#It thus learns a linear function in the space induced by the respective kernel and the data. For non-linear kernels, \n",
    "#this corresponds to a non-linear function in the original space."
   ]
  },
  {
   "cell_type": "code",
   "execution_count": 322,
   "id": "c721a5a9",
   "metadata": {},
   "outputs": [
    {
     "name": "stdout",
     "output_type": "stream",
     "text": [
      "Cross validation score of rbf: [-0.43688952  0.8297297  -0.00849316  0.49148194]\n",
      "Average score value of cross validation of rbf: 0.21895724036955264\n"
     ]
    },
    {
     "name": "stderr",
     "output_type": "stream",
     "text": [
      "C:\\Users\\moham\\AppData\\Local\\Programs\\Python\\Python310\\lib\\site-packages\\sklearn\\linear_model\\_ridge.py:255: UserWarning: Singular matrix in solving dual problem. Using least-squares solution instead.\n",
      "  warnings.warn(\n",
      "C:\\Users\\moham\\AppData\\Local\\Programs\\Python\\Python310\\lib\\site-packages\\sklearn\\linear_model\\_ridge.py:255: UserWarning: Singular matrix in solving dual problem. Using least-squares solution instead.\n",
      "  warnings.warn(\n",
      "C:\\Users\\moham\\AppData\\Local\\Programs\\Python\\Python310\\lib\\site-packages\\sklearn\\linear_model\\_ridge.py:255: UserWarning: Singular matrix in solving dual problem. Using least-squares solution instead.\n",
      "  warnings.warn(\n",
      "C:\\Users\\moham\\AppData\\Local\\Programs\\Python\\Python310\\lib\\site-packages\\sklearn\\linear_model\\_ridge.py:255: UserWarning: Singular matrix in solving dual problem. Using least-squares solution instead.\n",
      "  warnings.warn(\n",
      "C:\\Users\\moham\\AppData\\Local\\Programs\\Python\\Python310\\lib\\site-packages\\sklearn\\linear_model\\_ridge.py:255: UserWarning: Singular matrix in solving dual problem. Using least-squares solution instead.\n",
      "  warnings.warn(\n",
      "C:\\Users\\moham\\AppData\\Local\\Programs\\Python\\Python310\\lib\\site-packages\\sklearn\\linear_model\\_ridge.py:255: UserWarning: Singular matrix in solving dual problem. Using least-squares solution instead.\n",
      "  warnings.warn(\n",
      "C:\\Users\\moham\\AppData\\Local\\Programs\\Python\\Python310\\lib\\site-packages\\sklearn\\linear_model\\_ridge.py:255: UserWarning: Singular matrix in solving dual problem. Using least-squares solution instead.\n",
      "  warnings.warn(\n",
      "C:\\Users\\moham\\AppData\\Local\\Programs\\Python\\Python310\\lib\\site-packages\\sklearn\\linear_model\\_ridge.py:255: UserWarning: Singular matrix in solving dual problem. Using least-squares solution instead.\n",
      "  warnings.warn(\n",
      "C:\\Users\\moham\\AppData\\Local\\Programs\\Python\\Python310\\lib\\site-packages\\sklearn\\linear_model\\_ridge.py:255: UserWarning: Singular matrix in solving dual problem. Using least-squares solution instead.\n",
      "  warnings.warn(\n",
      "C:\\Users\\moham\\AppData\\Local\\Programs\\Python\\Python310\\lib\\site-packages\\sklearn\\linear_model\\_ridge.py:255: UserWarning: Singular matrix in solving dual problem. Using least-squares solution instead.\n",
      "  warnings.warn(\n",
      "C:\\Users\\moham\\AppData\\Local\\Programs\\Python\\Python310\\lib\\site-packages\\sklearn\\linear_model\\_ridge.py:255: UserWarning: Singular matrix in solving dual problem. Using least-squares solution instead.\n",
      "  warnings.warn(\n",
      "C:\\Users\\moham\\AppData\\Local\\Programs\\Python\\Python310\\lib\\site-packages\\sklearn\\linear_model\\_ridge.py:255: UserWarning: Singular matrix in solving dual problem. Using least-squares solution instead.\n",
      "  warnings.warn(\n",
      "C:\\Users\\moham\\AppData\\Local\\Programs\\Python\\Python310\\lib\\site-packages\\sklearn\\linear_model\\_ridge.py:255: UserWarning: Singular matrix in solving dual problem. Using least-squares solution instead.\n",
      "  warnings.warn(\n",
      "C:\\Users\\moham\\AppData\\Local\\Programs\\Python\\Python310\\lib\\site-packages\\sklearn\\linear_model\\_ridge.py:255: UserWarning: Singular matrix in solving dual problem. Using least-squares solution instead.\n",
      "  warnings.warn(\n",
      "C:\\Users\\moham\\AppData\\Local\\Programs\\Python\\Python310\\lib\\site-packages\\sklearn\\linear_model\\_ridge.py:255: UserWarning: Singular matrix in solving dual problem. Using least-squares solution instead.\n",
      "  warnings.warn(\n",
      "C:\\Users\\moham\\AppData\\Local\\Programs\\Python\\Python310\\lib\\site-packages\\sklearn\\linear_model\\_ridge.py:255: UserWarning: Singular matrix in solving dual problem. Using least-squares solution instead.\n",
      "  warnings.warn(\n",
      "C:\\Users\\moham\\AppData\\Local\\Programs\\Python\\Python310\\lib\\site-packages\\sklearn\\linear_model\\_ridge.py:255: UserWarning: Singular matrix in solving dual problem. Using least-squares solution instead.\n",
      "  warnings.warn(\n",
      "C:\\Users\\moham\\AppData\\Local\\Programs\\Python\\Python310\\lib\\site-packages\\sklearn\\linear_model\\_ridge.py:255: UserWarning: Singular matrix in solving dual problem. Using least-squares solution instead.\n",
      "  warnings.warn(\n",
      "C:\\Users\\moham\\AppData\\Local\\Programs\\Python\\Python310\\lib\\site-packages\\sklearn\\linear_model\\_ridge.py:255: UserWarning: Singular matrix in solving dual problem. Using least-squares solution instead.\n",
      "  warnings.warn(\n"
     ]
    },
    {
     "name": "stdout",
     "output_type": "stream",
     "text": [
      "Cross validation score of sigmoid: [-0.00451363 -0.10052929 -0.16783875 -0.03963897]\n",
      "Average score value of cross validation of sigmoid: -0.07813016044131404\n",
      "Cross validation score of polynomial: [0.85477718 0.81742855 0.86132042 0.79770564]\n",
      "Average score value of cross validation of polynomial: 0.8328079475518199\n",
      "R2 score of rbf: 0.8134040958273688\n",
      "R2 score of sigmoid: -0.019665915985211724\n",
      "R2 score of polynomial: 0.777834115701012\n"
     ]
    },
    {
     "name": "stderr",
     "output_type": "stream",
     "text": [
      "C:\\Users\\moham\\AppData\\Local\\Programs\\Python\\Python310\\lib\\site-packages\\sklearn\\linear_model\\_ridge.py:255: UserWarning: Singular matrix in solving dual problem. Using least-squares solution instead.\n",
      "  warnings.warn(\n",
      "C:\\Users\\moham\\AppData\\Local\\Programs\\Python\\Python310\\lib\\site-packages\\sklearn\\linear_model\\_ridge.py:255: UserWarning: Singular matrix in solving dual problem. Using least-squares solution instead.\n",
      "  warnings.warn(\n",
      "C:\\Users\\moham\\AppData\\Local\\Programs\\Python\\Python310\\lib\\site-packages\\sklearn\\linear_model\\_ridge.py:255: UserWarning: Singular matrix in solving dual problem. Using least-squares solution instead.\n",
      "  warnings.warn(\n",
      "C:\\Users\\moham\\AppData\\Local\\Programs\\Python\\Python310\\lib\\site-packages\\sklearn\\linear_model\\_ridge.py:255: UserWarning: Singular matrix in solving dual problem. Using least-squares solution instead.\n",
      "  warnings.warn(\n",
      "C:\\Users\\moham\\AppData\\Local\\Programs\\Python\\Python310\\lib\\site-packages\\sklearn\\linear_model\\_ridge.py:255: UserWarning: Singular matrix in solving dual problem. Using least-squares solution instead.\n",
      "  warnings.warn(\n",
      "C:\\Users\\moham\\AppData\\Local\\Programs\\Python\\Python310\\lib\\site-packages\\sklearn\\linear_model\\_ridge.py:255: UserWarning: Singular matrix in solving dual problem. Using least-squares solution instead.\n",
      "  warnings.warn(\n",
      "C:\\Users\\moham\\AppData\\Local\\Programs\\Python\\Python310\\lib\\site-packages\\sklearn\\linear_model\\_ridge.py:255: UserWarning: Singular matrix in solving dual problem. Using least-squares solution instead.\n",
      "  warnings.warn(\n",
      "C:\\Users\\moham\\AppData\\Local\\Programs\\Python\\Python310\\lib\\site-packages\\sklearn\\linear_model\\_ridge.py:255: UserWarning: Singular matrix in solving dual problem. Using least-squares solution instead.\n",
      "  warnings.warn(\n"
     ]
    }
   ],
   "source": [
    "KR_rbf = KernelRidge(alpha=0, kernel='rbf', kernel_params=None)\n",
    "KR_sig = KernelRidge(alpha=0, kernel='sigmoid', kernel_params=None)\n",
    "KR_poly = KernelRidge(alpha=0, kernel='polynomial', degree=2, coef0=1, kernel_params=None)\n",
    "KR_rbf.fit(X_train,y_train)\n",
    "KR_sig.fit(X_train,y_train)\n",
    "KR_poly.fit(X_train,y_train)\n",
    "cv = KFold(n_splits=4,random_state = None , shuffle = False)  \n",
    "\n",
    "#print(\"rbf kernel:\\n\",cross_validate(KR_rbf,X_train,y_train,cv = cv))\n",
    "#print(\"sigmoid kernel:\\n\",cross_validate(KR_sig,X_train,y_train,cv = cv))\n",
    "#print(\"polynomial kernel:\\n\",cross_validate(KR_poly,X_train,y_train,cv = cv))\n",
    "\n",
    "kernel_names = ['rbf','sigmoid','polynomial']\n",
    "kernels = [KR_rbf,KR_sig,KR_poly]\n",
    "cv_score = np.zeros((3,4))\n",
    "for i in range(len(kernels)):\n",
    "    cv_score[i,:] = cross_val_score(kernels[i], X_train,y_train, cv=cv)\n",
    "    print(f\"Cross validation score of {kernel_names[i]}: {cross_val_score(kernels[i], X_train,y_train,cv=cv)}\")  \n",
    "    print(f\"Average score value of cross validation of {kernel_names[i]}: {np.mean(cv_score[i,:])}\")\n",
    "    #print(cv_score)\n",
    "    \n",
    "kernel_pred = np.zeros((3,len(y_test)))\n",
    "\n",
    "for i in range(len(kernels)):\n",
    "    kernel_pred[i,:] = kernels[i].predict(X_test).reshape(1,-1)\n",
    "    #print(kernel_pred)\n",
    "    print(f\"R2 score of {kernel_names[i]}: {r2_score(y_test,kernel_pred[i,:])}\")"
   ]
  },
  {
   "cell_type": "markdown",
   "id": "34b9c156",
   "metadata": {},
   "source": [
    "## Section B"
   ]
  },
  {
   "cell_type": "markdown",
   "id": "97f644e4",
   "metadata": {},
   "source": [
    "### Alpha = 1 ( Larger alpha values specify stronger regularization)"
   ]
  },
  {
   "cell_type": "code",
   "execution_count": 323,
   "id": "f2dbd6d8",
   "metadata": {},
   "outputs": [
    {
     "name": "stdout",
     "output_type": "stream",
     "text": [
      "Cross validation score of rbf: [-1.01937804 -0.32869945 -0.5618728  -0.76311131]\n",
      "Average score value of cross validation of rbf (for alpha=1): -0.6682653983612952\n",
      "Cross validation score of sigmoid: [-0.00128905 -0.12446891 -0.14016953 -0.05559239]\n",
      "Average score value of cross validation of sigmoid (for alpha=1): -0.08037996969427169\n",
      "Cross validation score of polynomial: [0.86916549 0.80233425 0.84848273 0.81398156]\n",
      "Average score value of cross validation of polynomial (for alpha=1): 0.833491007912075\n",
      "R2 score of rbf: 0.25330807801543176\n",
      "R2 score of sigmoid: -0.028749247098768915\n",
      "R2 score of polynomial: 0.7727821576333364\n"
     ]
    }
   ],
   "source": [
    "KR_rbf1 = KernelRidge(alpha=1, kernel='rbf')\n",
    "KR_sig1 = KernelRidge(alpha=1, kernel='sigmoid')\n",
    "KR_poly1 = KernelRidge(alpha=1, kernel='polynomial', degree=2, coef0=1)\n",
    "KR_rbf1.fit(X_train,y_train)\n",
    "KR_sig1.fit(X_train,y_train)\n",
    "KR_poly1.fit(X_train,y_train)\n",
    "\n",
    "cv_score1 = np.zeros((3,4))\n",
    "kernels1 = [KR_rbf1,KR_sig1,KR_poly1]\n",
    "\n",
    "for i in range(len(kernels)):\n",
    "    cv_score1[i,:] = cross_val_score(kernels1[i], X_train,y_train, cv=cv)\n",
    "    print(f\"Cross validation score of {kernel_names[i]}: {cross_val_score(kernels1[i], X_train,y_train,cv=cv)}\")  \n",
    "    print(f\"Average score value of cross validation of {kernel_names[i]} (for alpha=1): {np.mean(cv_score1[i,:])}\")\n",
    "    #print(cv_score)\n",
    "\n",
    "kernel_pred1 = np.zeros((3,len(y_test)))\n",
    "for i in range(len(kernels1)):\n",
    "    kernel_pred1[i,:] = kernels1[i].predict(X_test).reshape(1,-1)\n",
    "    #print(kernel_pred)\n",
    "    print(f\"R2 score of {kernel_names[i]}: {r2_score(y_test,kernel_pred1[i,:])}\")"
   ]
  },
  {
   "cell_type": "markdown",
   "id": "813c3a20",
   "metadata": {},
   "source": [
    "### Alpha = 2 "
   ]
  },
  {
   "cell_type": "code",
   "execution_count": 324,
   "id": "43cf1a0d",
   "metadata": {},
   "outputs": [
    {
     "name": "stdout",
     "output_type": "stream",
     "text": [
      "Cross validation score of rbf: [-1.65906635 -1.6137859  -1.28210342 -1.9798369 ]\n",
      "Average score value of cross validation of rbf (for alpha=2): -1.6336981424135706\n",
      "Cross validation score of sigmoid: [-2.94332412e-05 -1.50251682e-01 -1.15597645e-01 -7.37321656e-02]\n",
      "Average score value of cross validation of sigmoid (for alpha=2): -0.08490273132733023\n",
      "Cross validation score of polynomial: [0.86922808 0.80209455 0.8482952  0.81392583]\n",
      "Average score value of cross validation of polynomial (for alpha=2): 0.8333859137965353\n",
      "R2 score of rbf: -0.7320064244749387\n",
      "R2 score of sigmoid: -0.03932803817035002\n",
      "R2 score of polynomial: 0.7725377888821223\n"
     ]
    }
   ],
   "source": [
    "KR_rbf2 = KernelRidge(alpha=2, kernel='rbf')\n",
    "KR_sig2 = KernelRidge(alpha=2, kernel='sigmoid')\n",
    "KR_poly2 = KernelRidge(alpha=2, kernel='polynomial', degree=2, coef0=1)\n",
    "KR_rbf2.fit(X_train,y_train)\n",
    "KR_sig2.fit(X_train,y_train)\n",
    "KR_poly2.fit(X_train,y_train)\n",
    "\n",
    "kernels2 = [KR_rbf2,KR_sig2,KR_poly2]\n",
    "cv_score2 = np.zeros((3,4))\n",
    "\n",
    "for i in range(len(kernels2)):\n",
    "    cv_score2[i,:] = cross_val_score(kernels2[i], X_train,y_train, cv=cv)\n",
    "    print(f\"Cross validation score of {kernel_names[i]}: {cross_val_score(kernels2[i], X_train,y_train,cv=cv)}\")  \n",
    "    print(f\"Average score value of cross validation of {kernel_names[i]} (for alpha=2): {np.mean(cv_score2[i,:])}\")\n",
    "\n",
    "kernel_pred2 = np.zeros((3,len(y_test)))\n",
    "for i in range(len(kernels2)):\n",
    "    kernel_pred2[i,:] = kernels2[i].predict(X_test).reshape(1,-1)\n",
    "    #print(kernel_pred)\n",
    "    print(f\"R2 score of {kernel_names[i]}: {r2_score(y_test,kernel_pred2[i,:])}\")"
   ]
  },
  {
   "cell_type": "markdown",
   "id": "f392d40a",
   "metadata": {},
   "source": [
    "## Section C"
   ]
  },
  {
   "cell_type": "markdown",
   "id": "1574970d",
   "metadata": {},
   "source": [
    "### different Alphas (0.2, 0.8, 1,5, 10, 20, 50, 300) and best solution"
   ]
  },
  {
   "cell_type": "code",
   "execution_count": 325,
   "id": "dcc308e4",
   "metadata": {},
   "outputs": [],
   "source": [
    "from sklearn.model_selection import GridSearchCV"
   ]
  },
  {
   "cell_type": "markdown",
   "id": "abc5cd4d",
   "metadata": {},
   "source": [
    "### different Alphas for linear kernel"
   ]
  },
  {
   "cell_type": "code",
   "execution_count": 331,
   "id": "314fe196",
   "metadata": {},
   "outputs": [
    {
     "name": "stdout",
     "output_type": "stream",
     "text": [
      "R2 score of linear for 0.2: -0.8962465266500048\n",
      "R2 score of linear for 0.8: -0.8962441815949131\n",
      "R2 score of linear for 1: -0.8962433999559749\n",
      "R2 score of linear for 5: -0.8962277676276058\n",
      "R2 score of linear for 10: -0.8962082343564306\n",
      "R2 score of linear for 20: -0.8961691914609877\n",
      "R2 score of linear for 50: -0.8960522513354192\n",
      "R2 score of linear for 300: -0.8950886561414493\n"
     ]
    }
   ],
   "source": [
    "alpha = [0.2, 0.8, 1,5, 10, 20, 50, 300]\n",
    "for i in range(len(alpha)):\n",
    "    krr = KernelRidge(alpha = alpha[i], kernel = 'linear')\n",
    "    #reg = GridSearchCV(krr, params_lin)\n",
    "    krr.fit(X_train,y_train)\n",
    "    y_krr = krr.predict(X_test)\n",
    "    print(f\"R2 score of linear for {alpha[i]}: {r2_score(y_test,y_krr)}\")"
   ]
  },
  {
   "cell_type": "markdown",
   "id": "e7a4a7f1",
   "metadata": {},
   "source": [
    "### different Alphas for rbf kernel"
   ]
  },
  {
   "cell_type": "code",
   "execution_count": 332,
   "id": "717f78b5",
   "metadata": {},
   "outputs": [
    {
     "name": "stdout",
     "output_type": "stream",
     "text": [
      "R2 score of rbf for 0.2: 0.8117170054480756\n",
      "R2 score of rbf for 0.8: 0.4349150746276921\n",
      "R2 score of rbf for 1: 0.25330807801543176\n",
      "R2 score of rbf for 5: -3.099254937014247\n",
      "R2 score of rbf for 10: -5.241399120127705\n",
      "R2 score of rbf for 20: -7.076604650054783\n",
      "R2 score of rbf for 50: -8.6424447603279\n",
      "R2 score of rbf for 300: -9.742221828843947\n"
     ]
    }
   ],
   "source": [
    "#params_rbf = {'kernel':['rbf'], 'alpha':[0.2, 0.8, 1,5, 10, 20, 50, 300]}\n",
    "for i in range(len(alpha)):\n",
    "    krr = KernelRidge(alpha = alpha[i], kernel = 'rbf')\n",
    "    krr.fit(X_train,y_train)\n",
    "    y_krr = krr.predict(X_test)\n",
    "    print(f\"R2 score of rbf for {alpha[i]}: {r2_score(y_test,y_krr)}\")"
   ]
  },
  {
   "cell_type": "markdown",
   "id": "19beda47",
   "metadata": {},
   "source": [
    "### different Alphas for polynomial kernel"
   ]
  },
  {
   "cell_type": "code",
   "execution_count": 335,
   "id": "883e0623",
   "metadata": {},
   "outputs": [
    {
     "name": "stdout",
     "output_type": "stream",
     "text": [
      "R2 score of rbf for 0.2 and degree 2: 0.7743388638497447\n",
      "R2 score of rbf for 0.2 and degree 3: 0.7819991885127008\n",
      "R2 score of rbf for 0.2 and degree 4: 0.7997695776750292\n",
      "R2 score of rbf for 0.8 and degree 2: 0.7729015814858907\n",
      "R2 score of rbf for 0.8 and degree 3: 0.8119259093577531\n",
      "R2 score of rbf for 0.8 and degree 4: 0.7997695776750292\n",
      "R2 score of rbf for 1 and degree 2: 0.7727821576333364\n",
      "R2 score of rbf for 1 and degree 3: 0.8106316772884163\n",
      "R2 score of rbf for 1 and degree 4: 0.7997695776750292\n",
      "R2 score of rbf for 5 and degree 2: 0.772405153324133\n",
      "R2 score of rbf for 5 and degree 3: 0.8083634991322928\n",
      "R2 score of rbf for 5 and degree 4: 0.7997882431884954\n",
      "R2 score of rbf for 10 and degree 2: 0.7723952224443761\n",
      "R2 score of rbf for 10 and degree 3: 0.8085966303285618\n",
      "R2 score of rbf for 10 and degree 4: 0.7997620183962445\n",
      "R2 score of rbf for 20 and degree 2: 0.7724517986190791\n",
      "R2 score of rbf for 20 and degree 3: 0.8076157927589036\n",
      "R2 score of rbf for 20 and degree 4: 0.7998227478231743\n",
      "R2 score of rbf for 50 and degree 2: 0.7726472354134616\n",
      "R2 score of rbf for 50 and degree 3: 0.8063670290087486\n",
      "R2 score of rbf for 50 and degree 4: 0.7998054414760944\n",
      "R2 score of rbf for 300 and degree 2: 0.7730249867157463\n",
      "R2 score of rbf for 300 and degree 3: 0.8045215272812913\n",
      "R2 score of rbf for 300 and degree 4: 0.7998389747283134\n"
     ]
    },
    {
     "name": "stderr",
     "output_type": "stream",
     "text": [
      "C:\\Users\\moham\\AppData\\Local\\Programs\\Python\\Python310\\lib\\site-packages\\sklearn\\linear_model\\_ridge.py:253: LinAlgWarning: Ill-conditioned matrix (rcond=1.07929e-17): result may not be accurate.\n",
      "  dual_coef = linalg.solve(K, y, assume_a=\"pos\", overwrite_a=False)\n",
      "C:\\Users\\moham\\AppData\\Local\\Programs\\Python\\Python310\\lib\\site-packages\\sklearn\\linear_model\\_ridge.py:255: UserWarning: Singular matrix in solving dual problem. Using least-squares solution instead.\n",
      "  warnings.warn(\n",
      "C:\\Users\\moham\\AppData\\Local\\Programs\\Python\\Python310\\lib\\site-packages\\sklearn\\linear_model\\_ridge.py:253: LinAlgWarning: Ill-conditioned matrix (rcond=7.42607e-17): result may not be accurate.\n",
      "  dual_coef = linalg.solve(K, y, assume_a=\"pos\", overwrite_a=False)\n",
      "C:\\Users\\moham\\AppData\\Local\\Programs\\Python\\Python310\\lib\\site-packages\\sklearn\\linear_model\\_ridge.py:255: UserWarning: Singular matrix in solving dual problem. Using least-squares solution instead.\n",
      "  warnings.warn(\n",
      "C:\\Users\\moham\\AppData\\Local\\Programs\\Python\\Python310\\lib\\site-packages\\sklearn\\linear_model\\_ridge.py:253: LinAlgWarning: Ill-conditioned matrix (rcond=9.08965e-17): result may not be accurate.\n",
      "  dual_coef = linalg.solve(K, y, assume_a=\"pos\", overwrite_a=False)\n",
      "C:\\Users\\moham\\AppData\\Local\\Programs\\Python\\Python310\\lib\\site-packages\\sklearn\\linear_model\\_ridge.py:255: UserWarning: Singular matrix in solving dual problem. Using least-squares solution instead.\n",
      "  warnings.warn(\n",
      "C:\\Users\\moham\\AppData\\Local\\Programs\\Python\\Python310\\lib\\site-packages\\sklearn\\linear_model\\_ridge.py:255: UserWarning: Singular matrix in solving dual problem. Using least-squares solution instead.\n",
      "  warnings.warn(\n",
      "C:\\Users\\moham\\AppData\\Local\\Programs\\Python\\Python310\\lib\\site-packages\\sklearn\\linear_model\\_ridge.py:255: UserWarning: Singular matrix in solving dual problem. Using least-squares solution instead.\n",
      "  warnings.warn(\n",
      "C:\\Users\\moham\\AppData\\Local\\Programs\\Python\\Python310\\lib\\site-packages\\sklearn\\linear_model\\_ridge.py:255: UserWarning: Singular matrix in solving dual problem. Using least-squares solution instead.\n",
      "  warnings.warn(\n",
      "C:\\Users\\moham\\AppData\\Local\\Programs\\Python\\Python310\\lib\\site-packages\\sklearn\\linear_model\\_ridge.py:255: UserWarning: Singular matrix in solving dual problem. Using least-squares solution instead.\n",
      "  warnings.warn(\n",
      "C:\\Users\\moham\\AppData\\Local\\Programs\\Python\\Python310\\lib\\site-packages\\sklearn\\linear_model\\_ridge.py:255: UserWarning: Singular matrix in solving dual problem. Using least-squares solution instead.\n",
      "  warnings.warn(\n"
     ]
    }
   ],
   "source": [
    "#params_poly = {'kernel':[''], 'alpha':[0.2, 0.8, 1,5, 10, 20, 50, 300],'degree':[2,3,4]}\n",
    "degree = [2,3,4]\n",
    "for i in range(len(alpha)):\n",
    "    for j in range(len(degree)):\n",
    "        krr = KernelRidge(alpha = alpha[i], kernel = 'polynomial',degree = degree[j])\n",
    "        krr.fit(X_train,y_train)\n",
    "        y_krr = krr.predict(X_test)\n",
    "        print(f\"R2 score of rbf for {alpha[i]} and degree {degree[j]}: {r2_score(y_test,y_krr)}\")\n",
    "\n",
    "\n"
   ]
  },
  {
   "cell_type": "markdown",
   "id": "45eff08b",
   "metadata": {},
   "source": [
    "### Finding the best solution"
   ]
  },
  {
   "cell_type": "code",
   "execution_count": 334,
   "id": "62ae70ee",
   "metadata": {},
   "outputs": [
    {
     "name": "stderr",
     "output_type": "stream",
     "text": [
      "C:\\Users\\moham\\AppData\\Local\\Programs\\Python\\Python310\\lib\\site-packages\\sklearn\\linear_model\\_ridge.py:253: LinAlgWarning: Ill-conditioned matrix (rcond=2.04651e-17): result may not be accurate.\n",
      "  dual_coef = linalg.solve(K, y, assume_a=\"pos\", overwrite_a=False)\n",
      "C:\\Users\\moham\\AppData\\Local\\Programs\\Python\\Python310\\lib\\site-packages\\sklearn\\linear_model\\_ridge.py:253: LinAlgWarning: Ill-conditioned matrix (rcond=1.61058e-17): result may not be accurate.\n",
      "  dual_coef = linalg.solve(K, y, assume_a=\"pos\", overwrite_a=False)\n",
      "C:\\Users\\moham\\AppData\\Local\\Programs\\Python\\Python310\\lib\\site-packages\\sklearn\\linear_model\\_ridge.py:253: LinAlgWarning: Ill-conditioned matrix (rcond=1.62583e-17): result may not be accurate.\n",
      "  dual_coef = linalg.solve(K, y, assume_a=\"pos\", overwrite_a=False)\n",
      "C:\\Users\\moham\\AppData\\Local\\Programs\\Python\\Python310\\lib\\site-packages\\sklearn\\linear_model\\_ridge.py:253: LinAlgWarning: Ill-conditioned matrix (rcond=1.83772e-17): result may not be accurate.\n",
      "  dual_coef = linalg.solve(K, y, assume_a=\"pos\", overwrite_a=False)\n",
      "C:\\Users\\moham\\AppData\\Local\\Programs\\Python\\Python310\\lib\\site-packages\\sklearn\\linear_model\\_ridge.py:253: LinAlgWarning: Ill-conditioned matrix (rcond=1.88682e-17): result may not be accurate.\n",
      "  dual_coef = linalg.solve(K, y, assume_a=\"pos\", overwrite_a=False)\n",
      "C:\\Users\\moham\\AppData\\Local\\Programs\\Python\\Python310\\lib\\site-packages\\sklearn\\linear_model\\_ridge.py:255: UserWarning: Singular matrix in solving dual problem. Using least-squares solution instead.\n",
      "  warnings.warn(\n",
      "C:\\Users\\moham\\AppData\\Local\\Programs\\Python\\Python310\\lib\\site-packages\\sklearn\\linear_model\\_ridge.py:255: UserWarning: Singular matrix in solving dual problem. Using least-squares solution instead.\n",
      "  warnings.warn(\n",
      "C:\\Users\\moham\\AppData\\Local\\Programs\\Python\\Python310\\lib\\site-packages\\sklearn\\linear_model\\_ridge.py:255: UserWarning: Singular matrix in solving dual problem. Using least-squares solution instead.\n",
      "  warnings.warn(\n",
      "C:\\Users\\moham\\AppData\\Local\\Programs\\Python\\Python310\\lib\\site-packages\\sklearn\\linear_model\\_ridge.py:255: UserWarning: Singular matrix in solving dual problem. Using least-squares solution instead.\n",
      "  warnings.warn(\n",
      "C:\\Users\\moham\\AppData\\Local\\Programs\\Python\\Python310\\lib\\site-packages\\sklearn\\linear_model\\_ridge.py:255: UserWarning: Singular matrix in solving dual problem. Using least-squares solution instead.\n",
      "  warnings.warn(\n",
      "C:\\Users\\moham\\AppData\\Local\\Programs\\Python\\Python310\\lib\\site-packages\\sklearn\\linear_model\\_ridge.py:253: LinAlgWarning: Ill-conditioned matrix (rcond=8.73708e-17): result may not be accurate.\n",
      "  dual_coef = linalg.solve(K, y, assume_a=\"pos\", overwrite_a=False)\n",
      "C:\\Users\\moham\\AppData\\Local\\Programs\\Python\\Python310\\lib\\site-packages\\sklearn\\linear_model\\_ridge.py:253: LinAlgWarning: Ill-conditioned matrix (rcond=9.12497e-17): result may not be accurate.\n",
      "  dual_coef = linalg.solve(K, y, assume_a=\"pos\", overwrite_a=False)\n",
      "C:\\Users\\moham\\AppData\\Local\\Programs\\Python\\Python310\\lib\\site-packages\\sklearn\\linear_model\\_ridge.py:253: LinAlgWarning: Ill-conditioned matrix (rcond=9.80943e-17): result may not be accurate.\n",
      "  dual_coef = linalg.solve(K, y, assume_a=\"pos\", overwrite_a=False)\n",
      "C:\\Users\\moham\\AppData\\Local\\Programs\\Python\\Python310\\lib\\site-packages\\sklearn\\linear_model\\_ridge.py:253: LinAlgWarning: Ill-conditioned matrix (rcond=9.38275e-17): result may not be accurate.\n",
      "  dual_coef = linalg.solve(K, y, assume_a=\"pos\", overwrite_a=False)\n",
      "C:\\Users\\moham\\AppData\\Local\\Programs\\Python\\Python310\\lib\\site-packages\\sklearn\\linear_model\\_ridge.py:253: LinAlgWarning: Ill-conditioned matrix (rcond=9.07901e-17): result may not be accurate.\n",
      "  dual_coef = linalg.solve(K, y, assume_a=\"pos\", overwrite_a=False)\n",
      "C:\\Users\\moham\\AppData\\Local\\Programs\\Python\\Python310\\lib\\site-packages\\sklearn\\linear_model\\_ridge.py:255: UserWarning: Singular matrix in solving dual problem. Using least-squares solution instead.\n",
      "  warnings.warn(\n",
      "C:\\Users\\moham\\AppData\\Local\\Programs\\Python\\Python310\\lib\\site-packages\\sklearn\\linear_model\\_ridge.py:255: UserWarning: Singular matrix in solving dual problem. Using least-squares solution instead.\n",
      "  warnings.warn(\n",
      "C:\\Users\\moham\\AppData\\Local\\Programs\\Python\\Python310\\lib\\site-packages\\sklearn\\linear_model\\_ridge.py:255: UserWarning: Singular matrix in solving dual problem. Using least-squares solution instead.\n",
      "  warnings.warn(\n",
      "C:\\Users\\moham\\AppData\\Local\\Programs\\Python\\Python310\\lib\\site-packages\\sklearn\\linear_model\\_ridge.py:255: UserWarning: Singular matrix in solving dual problem. Using least-squares solution instead.\n",
      "  warnings.warn(\n",
      "C:\\Users\\moham\\AppData\\Local\\Programs\\Python\\Python310\\lib\\site-packages\\sklearn\\linear_model\\_ridge.py:255: UserWarning: Singular matrix in solving dual problem. Using least-squares solution instead.\n",
      "  warnings.warn(\n",
      "C:\\Users\\moham\\AppData\\Local\\Programs\\Python\\Python310\\lib\\site-packages\\sklearn\\linear_model\\_ridge.py:255: UserWarning: Singular matrix in solving dual problem. Using least-squares solution instead.\n",
      "  warnings.warn(\n",
      "C:\\Users\\moham\\AppData\\Local\\Programs\\Python\\Python310\\lib\\site-packages\\sklearn\\linear_model\\_ridge.py:255: UserWarning: Singular matrix in solving dual problem. Using least-squares solution instead.\n",
      "  warnings.warn(\n",
      "C:\\Users\\moham\\AppData\\Local\\Programs\\Python\\Python310\\lib\\site-packages\\sklearn\\linear_model\\_ridge.py:255: UserWarning: Singular matrix in solving dual problem. Using least-squares solution instead.\n",
      "  warnings.warn(\n",
      "C:\\Users\\moham\\AppData\\Local\\Programs\\Python\\Python310\\lib\\site-packages\\sklearn\\linear_model\\_ridge.py:255: UserWarning: Singular matrix in solving dual problem. Using least-squares solution instead.\n",
      "  warnings.warn(\n",
      "C:\\Users\\moham\\AppData\\Local\\Programs\\Python\\Python310\\lib\\site-packages\\sklearn\\linear_model\\_ridge.py:255: UserWarning: Singular matrix in solving dual problem. Using least-squares solution instead.\n",
      "  warnings.warn(\n",
      "C:\\Users\\moham\\AppData\\Local\\Programs\\Python\\Python310\\lib\\site-packages\\sklearn\\linear_model\\_ridge.py:255: UserWarning: Singular matrix in solving dual problem. Using least-squares solution instead.\n",
      "  warnings.warn(\n",
      "C:\\Users\\moham\\AppData\\Local\\Programs\\Python\\Python310\\lib\\site-packages\\sklearn\\linear_model\\_ridge.py:255: UserWarning: Singular matrix in solving dual problem. Using least-squares solution instead.\n",
      "  warnings.warn(\n",
      "C:\\Users\\moham\\AppData\\Local\\Programs\\Python\\Python310\\lib\\site-packages\\sklearn\\linear_model\\_ridge.py:255: UserWarning: Singular matrix in solving dual problem. Using least-squares solution instead.\n",
      "  warnings.warn(\n",
      "C:\\Users\\moham\\AppData\\Local\\Programs\\Python\\Python310\\lib\\site-packages\\sklearn\\linear_model\\_ridge.py:255: UserWarning: Singular matrix in solving dual problem. Using least-squares solution instead.\n",
      "  warnings.warn(\n",
      "C:\\Users\\moham\\AppData\\Local\\Programs\\Python\\Python310\\lib\\site-packages\\sklearn\\linear_model\\_ridge.py:255: UserWarning: Singular matrix in solving dual problem. Using least-squares solution instead.\n",
      "  warnings.warn(\n",
      "C:\\Users\\moham\\AppData\\Local\\Programs\\Python\\Python310\\lib\\site-packages\\sklearn\\linear_model\\_ridge.py:255: UserWarning: Singular matrix in solving dual problem. Using least-squares solution instead.\n",
      "  warnings.warn(\n",
      "C:\\Users\\moham\\AppData\\Local\\Programs\\Python\\Python310\\lib\\site-packages\\sklearn\\linear_model\\_ridge.py:255: UserWarning: Singular matrix in solving dual problem. Using least-squares solution instead.\n",
      "  warnings.warn(\n",
      "C:\\Users\\moham\\AppData\\Local\\Programs\\Python\\Python310\\lib\\site-packages\\sklearn\\linear_model\\_ridge.py:255: UserWarning: Singular matrix in solving dual problem. Using least-squares solution instead.\n",
      "  warnings.warn(\n",
      "C:\\Users\\moham\\AppData\\Local\\Programs\\Python\\Python310\\lib\\site-packages\\sklearn\\linear_model\\_ridge.py:255: UserWarning: Singular matrix in solving dual problem. Using least-squares solution instead.\n",
      "  warnings.warn(\n",
      "C:\\Users\\moham\\AppData\\Local\\Programs\\Python\\Python310\\lib\\site-packages\\sklearn\\linear_model\\_ridge.py:255: UserWarning: Singular matrix in solving dual problem. Using least-squares solution instead.\n",
      "  warnings.warn(\n",
      "C:\\Users\\moham\\AppData\\Local\\Programs\\Python\\Python310\\lib\\site-packages\\sklearn\\linear_model\\_ridge.py:255: UserWarning: Singular matrix in solving dual problem. Using least-squares solution instead.\n",
      "  warnings.warn(\n",
      "C:\\Users\\moham\\AppData\\Local\\Programs\\Python\\Python310\\lib\\site-packages\\sklearn\\linear_model\\_ridge.py:255: UserWarning: Singular matrix in solving dual problem. Using least-squares solution instead.\n",
      "  warnings.warn(\n",
      "C:\\Users\\moham\\AppData\\Local\\Programs\\Python\\Python310\\lib\\site-packages\\sklearn\\linear_model\\_ridge.py:255: UserWarning: Singular matrix in solving dual problem. Using least-squares solution instead.\n",
      "  warnings.warn(\n",
      "C:\\Users\\moham\\AppData\\Local\\Programs\\Python\\Python310\\lib\\site-packages\\sklearn\\linear_model\\_ridge.py:255: UserWarning: Singular matrix in solving dual problem. Using least-squares solution instead.\n",
      "  warnings.warn(\n",
      "C:\\Users\\moham\\AppData\\Local\\Programs\\Python\\Python310\\lib\\site-packages\\sklearn\\linear_model\\_ridge.py:255: UserWarning: Singular matrix in solving dual problem. Using least-squares solution instead.\n",
      "  warnings.warn(\n"
     ]
    },
    {
     "name": "stdout",
     "output_type": "stream",
     "text": [
      "{'alpha': 5, 'degree': 4, 'kernel': 'polynomial'}\n",
      "R2 score in the best situation: 0.7997882431884954\n"
     ]
    },
    {
     "name": "stderr",
     "output_type": "stream",
     "text": [
      "C:\\Users\\moham\\AppData\\Local\\Programs\\Python\\Python310\\lib\\site-packages\\sklearn\\linear_model\\_ridge.py:255: UserWarning: Singular matrix in solving dual problem. Using least-squares solution instead.\n",
      "  warnings.warn(\n",
      "C:\\Users\\moham\\AppData\\Local\\Programs\\Python\\Python310\\lib\\site-packages\\sklearn\\linear_model\\_ridge.py:255: UserWarning: Singular matrix in solving dual problem. Using least-squares solution instead.\n",
      "  warnings.warn(\n",
      "C:\\Users\\moham\\AppData\\Local\\Programs\\Python\\Python310\\lib\\site-packages\\sklearn\\linear_model\\_ridge.py:255: UserWarning: Singular matrix in solving dual problem. Using least-squares solution instead.\n",
      "  warnings.warn(\n",
      "C:\\Users\\moham\\AppData\\Local\\Programs\\Python\\Python310\\lib\\site-packages\\sklearn\\linear_model\\_ridge.py:255: UserWarning: Singular matrix in solving dual problem. Using least-squares solution instead.\n",
      "  warnings.warn(\n",
      "C:\\Users\\moham\\AppData\\Local\\Programs\\Python\\Python310\\lib\\site-packages\\sklearn\\linear_model\\_ridge.py:255: UserWarning: Singular matrix in solving dual problem. Using least-squares solution instead.\n",
      "  warnings.warn(\n",
      "C:\\Users\\moham\\AppData\\Local\\Programs\\Python\\Python310\\lib\\site-packages\\sklearn\\linear_model\\_ridge.py:255: UserWarning: Singular matrix in solving dual problem. Using least-squares solution instead.\n",
      "  warnings.warn(\n",
      "C:\\Users\\moham\\AppData\\Local\\Programs\\Python\\Python310\\lib\\site-packages\\sklearn\\linear_model\\_ridge.py:255: UserWarning: Singular matrix in solving dual problem. Using least-squares solution instead.\n",
      "  warnings.warn(\n",
      "C:\\Users\\moham\\AppData\\Local\\Programs\\Python\\Python310\\lib\\site-packages\\sklearn\\linear_model\\_ridge.py:255: UserWarning: Singular matrix in solving dual problem. Using least-squares solution instead.\n",
      "  warnings.warn(\n",
      "C:\\Users\\moham\\AppData\\Local\\Programs\\Python\\Python310\\lib\\site-packages\\sklearn\\linear_model\\_ridge.py:255: UserWarning: Singular matrix in solving dual problem. Using least-squares solution instead.\n",
      "  warnings.warn(\n",
      "C:\\Users\\moham\\AppData\\Local\\Programs\\Python\\Python310\\lib\\site-packages\\sklearn\\linear_model\\_ridge.py:255: UserWarning: Singular matrix in solving dual problem. Using least-squares solution instead.\n",
      "  warnings.warn(\n",
      "C:\\Users\\moham\\AppData\\Local\\Programs\\Python\\Python310\\lib\\site-packages\\sklearn\\linear_model\\_ridge.py:255: UserWarning: Singular matrix in solving dual problem. Using least-squares solution instead.\n",
      "  warnings.warn(\n"
     ]
    }
   ],
   "source": [
    "params = {'kernel':('linear', 'rbf','polynomial'), 'alpha':[0.2, 0.8, 1,5, 10, 20, 50, 300],'degree':[2,3,4]}\n",
    "krr = KernelRidge()\n",
    "reg = GridSearchCV(krr, params_poly)\n",
    "reg.fit(X_train,y_train)\n",
    "y_reg = reg.predict(X_test)\n",
    "print(reg.best_params_)\n",
    "print(f\"R2 score in the best situation: {r2_score(y_test,y_reg)}\")"
   ]
  },
  {
   "cell_type": "code",
   "execution_count": null,
   "id": "4e9b6961",
   "metadata": {},
   "outputs": [],
   "source": []
  }
 ],
 "metadata": {
  "kernelspec": {
   "display_name": "Python 3 (ipykernel)",
   "language": "python",
   "name": "python3"
  },
  "language_info": {
   "codemirror_mode": {
    "name": "ipython",
    "version": 3
   },
   "file_extension": ".py",
   "mimetype": "text/x-python",
   "name": "python",
   "nbconvert_exporter": "python",
   "pygments_lexer": "ipython3",
   "version": "3.9.1"
  }
 },
 "nbformat": 4,
 "nbformat_minor": 5
}
